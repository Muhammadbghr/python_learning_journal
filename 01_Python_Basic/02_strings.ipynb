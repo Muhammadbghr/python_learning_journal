{
 "cells": [
  {
   "cell_type": "markdown",
   "id": "f1c18a29-d71a-4159-961d-b9f19bf3ea91",
   "metadata": {},
   "source": [
    "# 📝 Python Strings\n",
    "\n",
    "Strings in Python are sequences of characters, used to store text data.\n",
    "\n",
    "You can create strings using either single (`'`) or double (`\"`) quotes.\n",
    "\n",
    "---\n",
    "\n",
    "## 🔤 Creating Strings"
   ]
  },
  {
   "cell_type": "code",
   "execution_count": 2,
   "id": "aa2ad92d-a8df-4136-87ef-bc509029514b",
   "metadata": {},
   "outputs": [
    {
     "name": "stdout",
     "output_type": "stream",
     "text": [
      "Hello World\n",
      "I'm learning Python\n"
     ]
    }
   ],
   "source": [
    "s1 = \"Hello\"\n",
    "s2 = 'World'\n",
    "s3 = \"I'm learning Python\"\n",
    "\n",
    "print(s1, s2)\n",
    "print(s3)"
   ]
  },
  {
   "cell_type": "markdown",
   "id": "bc4b7843-859c-4635-a463-6b8f9c3ac77c",
   "metadata": {},
   "source": [
    "## 🔁 String Operations"
   ]
  },
  {
   "cell_type": "code",
   "execution_count": 4,
   "id": "bfb3ebc1-bd5b-44ef-b5b0-aaae82946437",
   "metadata": {},
   "outputs": [
    {
     "name": "stdout",
     "output_type": "stream",
     "text": [
      "Python Journal\n",
      "PythonPythonPython\n",
      "P\n",
      "n\n",
      "Pyt\n",
      "thon\n"
     ]
    }
   ],
   "source": [
    "a = \"Python\"\n",
    "b = \"Journal\"\n",
    "\n",
    "# Concatenation\n",
    "print(a + \" \" + b)\n",
    "\n",
    "# Repetition\n",
    "print(a * 3)\n",
    "\n",
    "# Indexing\n",
    "print(a[0])     # First character\n",
    "print(a[-1])    # Last character\n",
    "\n",
    "# Slicing\n",
    "print(a[0:3])   \n",
    "print(a[2:])    \n"
   ]
  },
  {
   "cell_type": "markdown",
   "id": "a304d90e-a7e6-498b-bdca-ec3fee533222",
   "metadata": {},
   "source": [
    "## 🔍 Useful String Methods"
   ]
  },
  {
   "cell_type": "code",
   "execution_count": 5,
   "id": "24a99dea-1a2d-4617-a8e6-e1f5fb2ab028",
   "metadata": {},
   "outputs": [
    {
     "name": "stdout",
     "output_type": "stream",
     "text": [
      "  hello, python!  \n",
      "  HELLO, PYTHON!  \n",
      "Hello, Python!\n",
      "  Hello, World!  \n",
      "9\n",
      "18\n"
     ]
    }
   ],
   "source": [
    "text = \"  Hello, Python!  \"\n",
    "\n",
    "print(text.lower())         # Lowercase\n",
    "print(text.upper())         # Uppercase\n",
    "print(text.strip())         # Remove leading/trailing spaces\n",
    "print(text.replace(\"Python\", \"World\"))  # Replace text\n",
    "print(text.find(\"Python\"))  # Find index of substring\n",
    "print(len(text))            # Length of the string"
   ]
  },
  {
   "cell_type": "markdown",
   "id": "9328cdfd-2976-4d27-807b-5aabdee81a23",
   "metadata": {},
   "source": [
    "⚠️ Strings are immutable – you can't change characters in-place."
   ]
  },
  {
   "cell_type": "markdown",
   "id": "2e1345a3-514c-49c3-9ebf-22c7477b97ac",
   "metadata": {},
   "source": [
    "## 🧩 String Formatting\n",
    "There are multiple ways to insert values into strings:\n",
    "\n",
    "### ✅ f-Strings (Recommended)"
   ]
  },
  {
   "cell_type": "code",
   "execution_count": 6,
   "id": "5d076756-dbc3-4636-86c5-565f92a29387",
   "metadata": {},
   "outputs": [
    {
     "name": "stdout",
     "output_type": "stream",
     "text": [
      "My name is Muhammad and I am 22 years old.\n"
     ]
    }
   ],
   "source": [
    "name = \"Muhammad\"\n",
    "age = 22\n",
    "print(f\"My name is {name} and I am {age} years old.\")\n"
   ]
  },
  {
   "cell_type": "markdown",
   "id": "75a98b84-16e3-4ddd-952e-cd001f31d68a",
   "metadata": {},
   "source": [
    "### ✅ `format()` Method"
   ]
  },
  {
   "cell_type": "code",
   "execution_count": 7,
   "id": "c0c253aa-a926-4bfd-8383-a127a7fc4037",
   "metadata": {},
   "outputs": [
    {
     "name": "stdout",
     "output_type": "stream",
     "text": [
      "My name is Muhammad and I am 22 years old.\n"
     ]
    }
   ],
   "source": [
    "print(\"My name is {} and I am {} years old.\".format(name, age))"
   ]
  },
  {
   "cell_type": "markdown",
   "id": "10cb5d3f-2e01-45be-847c-e20cf15ad44e",
   "metadata": {},
   "source": [
    "--- \n",
    "### 🧠 Practice Problems"
   ]
  },
  {
   "cell_type": "markdown",
   "id": "cdae0b59-afe3-4f73-b64d-4a7f9c119e27",
   "metadata": {},
   "source": [
    "__P1: Reverse a String__"
   ]
  },
  {
   "cell_type": "code",
   "execution_count": 8,
   "id": "57080e52-ca6c-4872-b944-ae93791404ac",
   "metadata": {},
   "outputs": [
    {
     "name": "stdout",
     "output_type": "stream",
     "text": [
      "!dlroW ,olleH\n"
     ]
    }
   ],
   "source": [
    "s = \"Hello, World!\" \n",
    "print(s[::-1])"
   ]
  },
  {
   "cell_type": "markdown",
   "id": "1f052e06-4ab3-4b13-88ec-7c85635c5736",
   "metadata": {},
   "source": [
    "__P2: Check if a String is a Palindrome__"
   ]
  },
  {
   "cell_type": "code",
   "execution_count": 13,
   "id": "9d4d8148-a086-424d-9b05-81a42a589479",
   "metadata": {},
   "outputs": [
    {
     "name": "stdout",
     "output_type": "stream",
     "text": [
      "wow is a palindrome word.\n"
     ]
    }
   ],
   "source": [
    "s = \"wow\"\n",
    "if s == s[::-1]:\n",
    "    print(s, \"is a palindrome word.\")\n",
    "else:\n",
    "    print(s, \"is not a palindrome word.\")"
   ]
  },
  {
   "cell_type": "code",
   "execution_count": 14,
   "id": "a207d175-03b0-440e-9ec2-5ffb682cf739",
   "metadata": {},
   "outputs": [
    {
     "name": "stdout",
     "output_type": "stream",
     "text": [
      "Cat is not a palindrome word.\n"
     ]
    }
   ],
   "source": [
    "s = \"Cat\"\n",
    "if s == s[::-1]:\n",
    "    print(s, \"is a palindrome word.\")\n",
    "else:\n",
    "    print(s, \"is not a palindrome word.\")"
   ]
  },
  {
   "cell_type": "markdown",
   "id": "2e3ae8a0-4372-4135-a904-367a936e4cda",
   "metadata": {},
   "source": [
    "__P3:\n",
    "Write a Python program that takes \"Hi this is a STRING\", and performs the following steps:__\n",
    "__1. Convert the entire string to lowercase.__\n",
    "__2. Split the lowercase string into a list of words using the string method.__\n"
   ]
  },
  {
   "cell_type": "code",
   "execution_count": 16,
   "id": "260cf863-fd04-41a3-80ad-cc43f3f89115",
   "metadata": {},
   "outputs": [
    {
     "name": "stdout",
     "output_type": "stream",
     "text": [
      "['hi', 'this', 'is', 'a', 'string']\n"
     ]
    }
   ],
   "source": [
    "s = \"Hi this is a STRING\"\n",
    "s = s.lower()   #\"hi this is a string\"\n",
    "words = s.split()\n",
    "print(words)"
   ]
  },
  {
   "cell_type": "markdown",
   "id": "81bb2f47-cfd8-4ebc-bb04-5096b888cf87",
   "metadata": {},
   "source": [
    "__P4: Extract Domain and Username from an Email__"
   ]
  },
  {
   "cell_type": "code",
   "execution_count": 24,
   "id": "e41baa61-af4b-4ba1-b8ef-4f232d923105",
   "metadata": {},
   "outputs": [
    {
     "name": "stdout",
     "output_type": "stream",
     "text": [
      "Domain : gmail.com \n",
      " Username : user2025\n"
     ]
    }
   ],
   "source": [
    "email = \"user2025@gmail.com\"\n",
    "username = email.split(\"@\")[0]    # <--@\n",
    "domain = email.split(\"@\")[1]      # @ -->\n",
    "print(\"Domain :\", domain, \"\\n\", \"Username :\", username)"
   ]
  },
  {
   "cell_type": "markdown",
   "id": "af6cfdbb-360e-4f9b-b5c3-d6f724f96877",
   "metadata": {},
   "source": [
    "---\n",
    "## 📌 Summary\n",
    "\n",
    "- Strings are sequences of characters.\n",
    "- You can concatenate, repeat, index, and slice strings.\n",
    "- Strings have many useful built-in methods.\n",
    "- Use f-strings or `.format()` to insert values into strings."
   ]
  }
 ],
 "metadata": {
  "kernelspec": {
   "display_name": "Python 3 (ipykernel)",
   "language": "python",
   "name": "python3"
  },
  "language_info": {
   "codemirror_mode": {
    "name": "ipython",
    "version": 3
   },
   "file_extension": ".py",
   "mimetype": "text/x-python",
   "name": "python",
   "nbconvert_exporter": "python",
   "pygments_lexer": "ipython3",
   "version": "3.13.2"
  }
 },
 "nbformat": 4,
 "nbformat_minor": 5
}
