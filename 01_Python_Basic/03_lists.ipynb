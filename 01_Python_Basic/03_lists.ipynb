{
 "cells": [
  {
   "cell_type": "markdown",
   "id": "29dbbcf2-31ac-4399-9021-4f124360cc57",
   "metadata": {},
   "source": [
    "# 📚 Python Lists\n",
    "\n",
    "A **list** in Python is an ordered, mutable (changeable) collection that can hold items of any data type.\n",
    "\n",
    "Lists are defined using **square brackets** `[]`.\n",
    "\n",
    "---\n",
    "\n",
    "## ✅ Creating Lists"
   ]
  },
  {
   "cell_type": "code",
   "execution_count": 1,
   "id": "7ecc1880-7f3a-410e-b20e-415da026a706",
   "metadata": {},
   "outputs": [
    {
     "name": "stdout",
     "output_type": "stream",
     "text": [
      "[1, 2, 3, 4, 5]\n",
      "[1, 'hello', True, 3.14, -10]\n"
     ]
    }
   ],
   "source": [
    "numbers = [1, 2, 3, 4, 5]\n",
    "mixed = [1, \"hello\", True, 3.14, -10]\n",
    "empty = []\n",
    "\n",
    "print(numbers)\n",
    "print(mixed)"
   ]
  },
  {
   "cell_type": "markdown",
   "id": "db6c8461-9edf-4b2e-a70b-4feb82c7e916",
   "metadata": {},
   "source": [
    "## 🔍 Accessing Elements"
   ]
  },
  {
   "cell_type": "code",
   "execution_count": 4,
   "id": "03b4a80a-2f54-4b3b-90e3-fb3c9264746f",
   "metadata": {},
   "outputs": [
    {
     "name": "stdout",
     "output_type": "stream",
     "text": [
      "apple\n",
      "cherry\n"
     ]
    }
   ],
   "source": [
    "fruits = [\"apple\", \"banana\", \"cherry\"]\n",
    "\n",
    "print(fruits[0])     # First item\n",
    "print(fruits[-1])    # Last item"
   ]
  },
  {
   "cell_type": "markdown",
   "id": "9a973f08-98eb-4e4b-b93d-844a41d81565",
   "metadata": {},
   "source": [
    "## 🔪 Slicing Lists"
   ]
  },
  {
   "cell_type": "code",
   "execution_count": 6,
   "id": "4cbb775e-40fb-41a0-a8b2-ad533f85adeb",
   "metadata": {},
   "outputs": [
    {
     "name": "stdout",
     "output_type": "stream",
     "text": [
      "['apple', 'banana']\n",
      "['banana', 'cherry']\n",
      "['cherry', 'banana', 'apple']\n"
     ]
    }
   ],
   "source": [
    "print(fruits[0:2])  \n",
    "print(fruits[1:])    \n",
    "print(fruits[::-1])  # Reverse list"
   ]
  },
  {
   "cell_type": "markdown",
   "id": "691431d8-0a88-4c79-8d8f-8fd7c900ef73",
   "metadata": {},
   "source": [
    "## 🔧 Common List Methods"
   ]
  },
  {
   "cell_type": "code",
   "execution_count": 7,
   "id": "9b99bf4d-c65b-48f1-81ab-595342328bb9",
   "metadata": {},
   "outputs": [
    {
     "name": "stdout",
     "output_type": "stream",
     "text": [
      "['red', 'blue', 'black']\n"
     ]
    }
   ],
   "source": [
    "colors = [\"red\", \"green\", \"blue\"]\n",
    "\n",
    "colors.append(\"yellow\")      # Add to end\n",
    "colors.insert(1, \"black\")    # Insert at index\n",
    "colors.remove(\"green\")       # Remove by value\n",
    "colors.pop()                 # Remove last\n",
    "colors.sort()                # Sort ascending\n",
    "colors.reverse()             # Reverse in-place\n",
    "\n",
    "print(colors)"
   ]
  },
  {
   "cell_type": "markdown",
   "id": "8350c098-25b5-44ad-a7ee-4d6c7cce6783",
   "metadata": {},
   "source": [
    "## 📏 Useful Functions with Lists"
   ]
  },
  {
   "cell_type": "code",
   "execution_count": 9,
   "id": "5a74969c-475e-4f0f-b79b-d531d071d059",
   "metadata": {},
   "outputs": [
    {
     "name": "stdout",
     "output_type": "stream",
     "text": [
      "5\n",
      "150\n",
      "50\n",
      "10\n"
     ]
    }
   ],
   "source": [
    "nums = [10, 20, 30, 40, 50]\n",
    "\n",
    "print(len(nums))       # Length\n",
    "print(sum(nums))       # Sum\n",
    "print(max(nums))       # Max value\n",
    "print(min(nums))       # Min value"
   ]
  },
  {
   "cell_type": "markdown",
   "id": "0b4b23f1-7117-4abf-ba4d-17aaa415422a",
   "metadata": {},
   "source": [
    "## 🧱 Nested Lists"
   ]
  },
  {
   "cell_type": "code",
   "execution_count": 10,
   "id": "2f22591a-6a4f-4a04-8619-a90e84ab9950",
   "metadata": {},
   "outputs": [
    {
     "name": "stdout",
     "output_type": "stream",
     "text": [
      "[4, 5, 6]\n",
      "6\n"
     ]
    }
   ],
   "source": [
    "nlist = [\n",
    "    [1, 2, 3],\n",
    "    [4, 5, 6],\n",
    "    [7, 8, 9]\n",
    "]\n",
    "\n",
    "print(nlist[1])      \n",
    "print(nlist[1][2])   \n"
   ]
  },
  {
   "cell_type": "markdown",
   "id": "522d62d9-b8ae-49f8-91d8-0ae391959957",
   "metadata": {},
   "source": [
    "---\n",
    "## 🧠 Practice Problems"
   ]
  },
  {
   "cell_type": "markdown",
   "id": "3eadef9f-2e5b-4e63-9107-354bb9b10639",
   "metadata": {},
   "source": [
    "__P1: Replace the second item in a list with \"orange\"__"
   ]
  },
  {
   "cell_type": "code",
   "execution_count": 11,
   "id": "41619ab0-9694-487a-88e5-f1933d688f41",
   "metadata": {},
   "outputs": [
    {
     "name": "stdout",
     "output_type": "stream",
     "text": [
      "['apple', 'orange', 'cherry']\n"
     ]
    }
   ],
   "source": [
    "fruits = [\"apple\", \"banana\", \"cherry\"]\n",
    "fruits[1] = \"orange\"\n",
    "print(fruits)"
   ]
  },
  {
   "cell_type": "markdown",
   "id": "b1633203-dc3f-4f68-af95-db16ed4d5a97",
   "metadata": {},
   "source": [
    "__P2: Add a new element to the list only if it doesn’t already exist__"
   ]
  },
  {
   "cell_type": "code",
   "execution_count": 12,
   "id": "0040faa2-0b57-48c7-9538-ae450ff06019",
   "metadata": {},
   "outputs": [
    {
     "name": "stdout",
     "output_type": "stream",
     "text": [
      "['pen', 'notebook', 'eraser']\n"
     ]
    }
   ],
   "source": [
    "items = [\"pen\", \"notebook\", \"eraser\"]\n",
    "new_item = \"pen\"\n",
    "if new_item in items:\n",
    "    print(items)\n",
    "else:\n",
    "    items.append(new_item)\n",
    "    print(items)"
   ]
  },
  {
   "cell_type": "code",
   "execution_count": 24,
   "id": "29b41a78-36b3-4313-bcea-ecc184751168",
   "metadata": {},
   "outputs": [
    {
     "name": "stdout",
     "output_type": "stream",
     "text": [
      "['pen', 'notebook', 'eraser', 'pencil']\n"
     ]
    }
   ],
   "source": [
    "items = [\"pen\", \"notebook\", \"eraser\"]\n",
    "new_item = \"pencil\"\n",
    "if new_item in items:\n",
    "    print(items)\n",
    "else:\n",
    "    items.append(new_item)\n",
    "    print(items)"
   ]
  },
  {
   "cell_type": "markdown",
   "id": "a2493b32-4cef-487a-83f4-ff67cc4a5bd9",
   "metadata": {},
   "source": [
    "__P3: Searches for a specific item in the P2 list (e.g. \"pen\"). Removes that item. and Inserts a new item (e.g. \"sharpener\") at the same index where the original item was.__"
   ]
  },
  {
   "cell_type": "code",
   "execution_count": 25,
   "id": "b583c16a-32b8-4ee5-ac7f-62a5050d3b93",
   "metadata": {},
   "outputs": [
    {
     "name": "stdout",
     "output_type": "stream",
     "text": [
      "['sharpener', 'notebook', 'eraser', 'pencil']\n"
     ]
    }
   ],
   "source": [
    "selected_item = \"pen\"\n",
    "item_in = items.index(selected_item)   #item_in = selected item index\n",
    "items.remove(selected_item)\n",
    "items.insert(item_in, \"sharpener\")\n",
    "print(items)"
   ]
  },
  {
   "cell_type": "markdown",
   "id": "34525090-6d5f-4742-80b7-d48b237fb324",
   "metadata": {},
   "source": [
    "---\n",
    "## 📌 Summary\n",
    "- Lists are ordered and mutable.\n",
    "- Use indexing and slicing to access data.\n",
    "- Use methods like `append()`, `insert()`, `pop()`, and `sort()`.\n",
    "- You can nest lists inside each other.\n",
    "- List comprehensions are powerful for filtering and transforming lists."
   ]
  }
 ],
 "metadata": {
  "kernelspec": {
   "display_name": "Python 3 (ipykernel)",
   "language": "python",
   "name": "python3"
  },
  "language_info": {
   "codemirror_mode": {
    "name": "ipython",
    "version": 3
   },
   "file_extension": ".py",
   "mimetype": "text/x-python",
   "name": "python",
   "nbconvert_exporter": "python",
   "pygments_lexer": "ipython3",
   "version": "3.13.2"
  }
 },
 "nbformat": 4,
 "nbformat_minor": 5
}
