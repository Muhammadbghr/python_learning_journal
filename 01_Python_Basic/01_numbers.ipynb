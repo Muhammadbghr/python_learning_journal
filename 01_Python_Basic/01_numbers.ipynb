{
 "cells": [
  {
   "cell_type": "markdown",
   "id": "5b959d5f-c6c4-4ec4-bda2-097ec18cfa5f",
   "metadata": {},
   "source": [
    "# 🧮 Python Numbers\n",
    "\n",
    "Numbers are one of the most fundamental data types in Python. Python supports several types of numbers:\n",
    "\n",
    "- `int`: Integer numbers (e.g., `3`, `-42`)\n",
    "- `float`: Floating-point numbers (e.g., `3.14`, `-0.001`)\n",
    "- `complex`: Complex numbers (e.g., `2 + 3j`)\n",
    "\n",
    "---\n",
    "\n",
    "\n",
    "## ✅ Basic Usage"
   ]
  },
  {
   "cell_type": "code",
   "execution_count": 12,
   "id": "886e144a-0a1e-469a-9b1b-8c031d63e419",
   "metadata": {},
   "outputs": [
    {
     "name": "stdout",
     "output_type": "stream",
     "text": [
      "<class 'int'> <class 'float'> <class 'complex'>\n"
     ]
    }
   ],
   "source": [
    "a = 10           # int\n",
    "b = 3.14         # float\n",
    "c = 2 + 5j       # complex\n",
    "\n",
    "print(type(a), type(b), type(c))"
   ]
  },
  {
   "cell_type": "markdown",
   "id": "210858a1-5440-42fd-9b3d-e50f69441ced",
   "metadata": {},
   "source": [
    "## ➕ Arithmetic Operations"
   ]
  },
  {
   "cell_type": "code",
   "execution_count": 13,
   "id": "d944ce65-0514-4064-93a8-1942ef115ea8",
   "metadata": {},
   "outputs": [
    {
     "name": "stdout",
     "output_type": "stream",
     "text": [
      "11\n",
      "7\n",
      "18\n",
      "4.5\n",
      "4\n",
      "1\n",
      "81\n"
     ]
    }
   ],
   "source": [
    "x = 9\n",
    "y = 2\n",
    "\n",
    "print(x + y)     # Addition\n",
    "print(x - y)     # Subtraction\n",
    "print(x * y)     # Multiplication\n",
    "print(x / y)     # Division (float)\n",
    "print(x // y)    # Floor Division\n",
    "print(x % y)     # Modulus (remainder)\n",
    "print(x ** y)    # Exponentiation"
   ]
  },
  {
   "cell_type": "markdown",
   "id": "e667a78b-a97b-4e1e-8778-d773eabdae86",
   "metadata": {},
   "source": [
    "⚠️ Division `/` always returns a float, even if divisible."
   ]
  },
  {
   "cell_type": "markdown",
   "id": "fe9e7883-c171-485d-81be-435cfee65d1c",
   "metadata": {},
   "source": [
    "## 📏 Type Conversion"
   ]
  },
  {
   "cell_type": "code",
   "execution_count": 3,
   "id": "2eb6da6c-76aa-4021-a188-a19808c8e21f",
   "metadata": {},
   "outputs": [
    {
     "name": "stdout",
     "output_type": "stream",
     "text": [
      "5.0\n",
      "3\n"
     ]
    }
   ],
   "source": [
    "a = 5\n",
    "b = float(a)     # int to float\n",
    "c = int(3.99)    # float to int (truncates)\n",
    "\n",
    "print(b)\n",
    "print(c)"
   ]
  },
  {
   "cell_type": "markdown",
   "id": "8501aa97-ab57-4831-8c30-fe6df79b8f41",
   "metadata": {},
   "source": [
    "⚠️ Using `int()` on a float doesn't round—it."
   ]
  },
  {
   "cell_type": "markdown",
   "id": "99127027-5127-4744-9564-1f13c7231936",
   "metadata": {},
   "source": [
    "## ⚙️ Operator Precedence in Python\n",
    "\n",
    "When evaluating expressions, Python follows a specific **order of operations** — similar to math.\n",
    "\n",
    "The general order (from highest to lowest priority) is:\n",
    "\n",
    "| Precedence | Operator(s)       | Description                         | Example                 |\n",
    "|------------|-------------------|-------------------------------------|-------------------------|\n",
    "| 1          | `()`              | Parentheses (grouping)              | `(2 + 3) * 4` → `20`    |\n",
    "| 2          | `**`              | Exponentiation                      | `2 ** 3` → `8`          |\n",
    "| 3          | `*`, `/`, `//`, `%` | Multiplication, Division, Floor Division, Modulus | `10 / 2 * 5` → `25.0` |\n",
    "| 4          | `+`, `-`          | Addition, Subtraction               | `5 + 2 * 3` → `11`      |\n",
    "| 5          | Comparison ops    | `<`, `>`, `==`, `!=`, etc.          | `3 > 2` → `True`        |\n",
    "| 6          | Logical NOT       | `not`                               | `not True` → `False`    |\n",
    "| 7          | Logical AND       | `and`                               | `True and False` → `False` |\n",
    "| 8          | Logical OR        | `or`                                | `True or False` → `True` |\n",
    "\n",
    "> 🧠 Python evaluates from **top to bottom**. Operators on the same row have **left-to-right** associativity (except `**`, which is right-to-left).\n",
    "\n",
    "---\n",
    "\n",
    "### 🔍 Example Expression:"
   ]
  },
  {
   "cell_type": "code",
   "execution_count": 26,
   "id": "52106c28-077b-4c34-9d03-0ecb6fbcfa37",
   "metadata": {},
   "outputs": [
    {
     "name": "stdout",
     "output_type": "stream",
     "text": [
      "19\n"
     ]
    }
   ],
   "source": [
    "result = 3 + 4 * 2 ** 2\n",
    "print(result)"
   ]
  },
  {
   "cell_type": "markdown",
   "id": "26b22b46-7273-4b7a-adfb-f4fd5d723d54",
   "metadata": {},
   "source": [
    "💡 If you're not sure about precedence, use parentheses to make it clear — both for you and others reading your code."
   ]
  },
  {
   "cell_type": "code",
   "execution_count": 27,
   "id": "a4c41693-7b36-48f1-99c8-ab3b09a55503",
   "metadata": {},
   "outputs": [
    {
     "name": "stdout",
     "output_type": "stream",
     "text": [
      "19\n"
     ]
    }
   ],
   "source": [
    "result = 3 + (4 * (2 ** 2))\n",
    "print(result)"
   ]
  },
  {
   "cell_type": "markdown",
   "id": "97463325-8117-45d9-a360-c254b84c7d5e",
   "metadata": {},
   "source": [
    "---\n",
    "## 🧠 Practical Exercises"
   ]
  },
  {
   "cell_type": "markdown",
   "id": "54311b87-dd97-4af0-aa96-f90bd372cd7c",
   "metadata": {},
   "source": [
    "P1: Calculate a 15% tip for a restaurant bill."
   ]
  },
  {
   "cell_type": "code",
   "execution_count": 9,
   "id": "08c5d335-e544-4fb5-8be0-647515bacca4",
   "metadata": {},
   "outputs": [
    {
     "name": "stdout",
     "output_type": "stream",
     "text": [
      "Total : 138.0\n"
     ]
    }
   ],
   "source": [
    "bill = 120 \n",
    "tip = bill * 0.15\n",
    "total = bill + tip\n",
    "print (\"Total :\", total)"
   ]
  },
  {
   "cell_type": "markdown",
   "id": "b52b0732-aace-442c-b81b-eeadd837c766",
   "metadata": {},
   "source": [
    "P2: Check if a number is even or odd."
   ]
  },
  {
   "cell_type": "code",
   "execution_count": 10,
   "id": "4f5b20ac-0e4c-4d97-b675-8b1c1e319089",
   "metadata": {},
   "outputs": [
    {
     "name": "stdout",
     "output_type": "stream",
     "text": [
      "Even\n"
     ]
    }
   ],
   "source": [
    "number = 42\n",
    "if number % 2 == 0:\n",
    "    print(\"Even\")\n",
    "else:\n",
    "    print(\"Odd\")"
   ]
  },
  {
   "cell_type": "code",
   "execution_count": 11,
   "id": "4def091a-105a-4f48-9b7f-3f4ad0fea12d",
   "metadata": {},
   "outputs": [
    {
     "name": "stdout",
     "output_type": "stream",
     "text": [
      "Odd\n"
     ]
    }
   ],
   "source": [
    "number = 43\n",
    "if number % 2 == 0:\n",
    "    print(\"Even\")\n",
    "else:\n",
    "    print(\"Odd\")"
   ]
  },
  {
   "cell_type": "markdown",
   "id": "4a746be1-b339-435d-85dc-0c469d674a1a",
   "metadata": {},
   "source": [
    "P3: Write a program that takes your age in years and prints it in months."
   ]
  },
  {
   "cell_type": "code",
   "execution_count": 14,
   "id": "ab6b65bb-8225-4487-9b14-44bea6e44f67",
   "metadata": {},
   "outputs": [
    {
     "name": "stdout",
     "output_type": "stream",
     "text": [
      "Age in months: 264\n"
     ]
    }
   ],
   "source": [
    "age_years = 22\n",
    "age_months = age_years * 12\n",
    "print(\"Age in months:\", age_months)"
   ]
  },
  {
   "cell_type": "markdown",
   "id": "b23b78dc-b024-47f9-98b8-93c4bf24248b",
   "metadata": {},
   "source": [
    "P4: Create a complex number z = 3 + 4j and print its type and value."
   ]
  },
  {
   "cell_type": "code",
   "execution_count": 16,
   "id": "6a29a31d-2dc6-4a6c-9e4f-a0eea43dc061",
   "metadata": {},
   "outputs": [
    {
     "name": "stdout",
     "output_type": "stream",
     "text": [
      "value : (3+4j)\n",
      "type : <class 'complex'>\n"
     ]
    }
   ],
   "source": [
    "z = 3 + 4j\n",
    "print (\"value :\", z)\n",
    "print (\"type :\", type(z))"
   ]
  },
  {
   "cell_type": "markdown",
   "id": "e7d138f4-f06d-4aca-a0ab-0a3ece6498ad",
   "metadata": {},
   "source": [
    "P5: Convert temperature from Celsius to Fahrenheit."
   ]
  },
  {
   "cell_type": "code",
   "execution_count": 23,
   "id": "7bdd7363-c946-46ba-b395-b856cf3245d4",
   "metadata": {},
   "outputs": [
    {
     "name": "stdout",
     "output_type": "stream",
     "text": [
      "27°C is 80.6°F\n"
     ]
    }
   ],
   "source": [
    "celsius = 27\n",
    "fahrenheit = (celsius * 9/5) + 32\n",
    "print(f\"{celsius}°C is {fahrenheit}°F\")"
   ]
  },
  {
   "cell_type": "markdown",
   "id": "45eca655-97f5-4d55-a554-2b225f312106",
   "metadata": {},
   "source": [
    "---\n",
    "## 📌 Summary"
   ]
  },
  {
   "cell_type": "markdown",
   "id": "080530f5-ed2c-421b-89b3-90b0c724aa2a",
   "metadata": {},
   "source": [
    "- Use `int`, `loat`, and `complex` for numeric data.\n",
    "- Understand basic arithmetic and operator behaviors.\n",
    "- Use type conversion to switch between types.\n",
    "- Practice with real-life examples like tip calculators or unit converters.\n",
    "\n"
   ]
  }
 ],
 "metadata": {
  "kernelspec": {
   "display_name": "Python 3 (ipykernel)",
   "language": "python",
   "name": "python3"
  },
  "language_info": {
   "codemirror_mode": {
    "name": "ipython",
    "version": 3
   },
   "file_extension": ".py",
   "mimetype": "text/x-python",
   "name": "python",
   "nbconvert_exporter": "python",
   "pygments_lexer": "ipython3",
   "version": "3.13.2"
  }
 },
 "nbformat": 4,
 "nbformat_minor": 5
}
