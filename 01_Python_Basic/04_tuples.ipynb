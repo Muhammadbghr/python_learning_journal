{
 "cells": [
  {
   "cell_type": "markdown",
   "id": "e609e3f2-6676-4bb4-bc6c-679e9f33b04c",
   "metadata": {},
   "source": [
    "# 🔗 Python Tuples\n",
    "\n",
    "A **tuple** is a collection of items that is **ordered and immutable** (cannot be changed after creation).\n",
    "\n",
    "Tuples are defined using **parentheses** `()` instead of square brackets `[]`.\n",
    "\n",
    "---\n",
    "\n",
    "## 🛠 Creating Tuples"
   ]
  },
  {
   "cell_type": "code",
   "execution_count": 7,
   "id": "a9a0dc17-2a2f-4d5f-971e-afb9c3dcdcb9",
   "metadata": {},
   "outputs": [
    {
     "name": "stdout",
     "output_type": "stream",
     "text": [
      "(1, 2, 3)\n",
      "('apple', 'banana', 'cherry')\n",
      "<class 'tuple'>\n",
      "<class 'int'>\n"
     ]
    }
   ],
   "source": [
    "t1 = (1, 2, 3)\n",
    "t2 = (\"apple\", \"banana\", \"cherry\")\n",
    "t3 = ()                  # Empty tuple\n",
    "t4 = (42,)               # Single-element tuple (note the comma!)\n",
    "t5 = (45)                # Without comma python recognize the type as 'int'\n",
    "\n",
    "print(t1)\n",
    "print(t2)\n",
    "print(type(t4))\n",
    "print(type(t5))"
   ]
  },
  {
   "cell_type": "markdown",
   "id": "a97c9933-5a08-4459-a1c7-453e61f4a4cd",
   "metadata": {},
   "source": [
    "## 📥 Accessing Tuple Items"
   ]
  },
  {
   "cell_type": "code",
   "execution_count": 8,
   "id": "2595f809-5079-4338-8ef7-fe3ee8777016",
   "metadata": {},
   "outputs": [
    {
     "name": "stdout",
     "output_type": "stream",
     "text": [
      "a\n",
      "d\n",
      "('b', 'c')\n"
     ]
    }
   ],
   "source": [
    "t = (\"a\", \"b\", \"c\", \"d\")\n",
    "\n",
    "print(t[0])       # First item\n",
    "print(t[-1])      # Last item\n",
    "print(t[1:3])     # Slice"
   ]
  },
  {
   "cell_type": "markdown",
   "id": "4b8f0181-35eb-4339-8671-cac17b57911b",
   "metadata": {},
   "source": [
    "## ❌ Tuples Are Immutable\n",
    "You cannot modify, add, or remove elements from a tuple after it's created."
   ]
  },
  {
   "cell_type": "code",
   "execution_count": 9,
   "id": "fc58aeab-2092-4da7-82cd-67547fe54e08",
   "metadata": {},
   "outputs": [],
   "source": [
    "t = (1, 2, 3)\n",
    "\n",
    "# The following will raise an error:\n",
    "# t[0] = 10\n",
    "# t.append(4)"
   ]
  },
  {
   "cell_type": "markdown",
   "id": "efb9f82e-bcc0-42b6-a357-ec37519106dc",
   "metadata": {},
   "source": [
    "✅ But you can reassign the variable:"
   ]
  },
  {
   "cell_type": "code",
   "execution_count": 14,
   "id": "57439f08-62ab-45ae-9a59-a291da3c9624",
   "metadata": {},
   "outputs": [
    {
     "name": "stdout",
     "output_type": "stream",
     "text": [
      "(4, 5, 6)\n"
     ]
    }
   ],
   "source": [
    "t = (1, 2, 3)\n",
    "t = (4, 5, 6,)\n",
    "print(t)"
   ]
  },
  {
   "cell_type": "markdown",
   "id": "b4db8736-6fe0-47c7-ba8d-0c40267e5a7c",
   "metadata": {},
   "source": [
    "## 🔄 Tuple Unpacking\n",
    "You can assign tuple elements directly to variables:\n"
   ]
  },
  {
   "cell_type": "code",
   "execution_count": 16,
   "id": "f3775011-13f9-4342-be44-212496602257",
   "metadata": {},
   "outputs": [
    {
     "name": "stdout",
     "output_type": "stream",
     "text": [
      "3\n",
      "5\n"
     ]
    }
   ],
   "source": [
    "point = (3, 5)\n",
    "x, y = point\n",
    "print(x)\n",
    "print(y)\n"
   ]
  },
  {
   "cell_type": "markdown",
   "id": "87a94db6-627c-4890-b157-b6638ee08789",
   "metadata": {},
   "source": [
    "## 🧠 Useful Tuple Functions"
   ]
  },
  {
   "cell_type": "code",
   "execution_count": 18,
   "id": "f6106d5d-49f3-4e72-a1c4-ad59d3faba93",
   "metadata": {},
   "outputs": [
    {
     "name": "stdout",
     "output_type": "stream",
     "text": [
      "7\n",
      "3\n",
      "2\n"
     ]
    }
   ],
   "source": [
    "t = (4, 2, 7, 2, 9, 2, 3)\n",
    "\n",
    "print(len(t))\n",
    "print(t.count(2))     # Count how many times 2 appears\n",
    "print(t.index(7))     # Find the index of 7"
   ]
  },
  {
   "cell_type": "markdown",
   "id": "7f1c25c4-5796-4253-8979-a36bf154e273",
   "metadata": {},
   "source": [
    "---\n",
    "## 🧩 Practice Problems"
   ]
  },
  {
   "cell_type": "markdown",
   "id": "ec95ed16-a9af-433e-b876-f6ace76ef22d",
   "metadata": {},
   "source": [
    "__P1: Create a tuple of 3 favorite foods and print the second one.__"
   ]
  },
  {
   "cell_type": "code",
   "execution_count": 19,
   "id": "d20fd943-4876-491e-982b-6fca5bf8bd76",
   "metadata": {},
   "outputs": [
    {
     "name": "stdout",
     "output_type": "stream",
     "text": [
      "sushi\n"
     ]
    }
   ],
   "source": [
    "foods = (\"pizza\", \"sushi\", \"burger\")\n",
    "print(foods[1])"
   ]
  },
  {
   "cell_type": "markdown",
   "id": "0620fa89-acbc-495a-a1e8-a6715934cf79",
   "metadata": {},
   "source": [
    "__P2: Unpack a tuple of student info and print name and age__"
   ]
  },
  {
   "cell_type": "code",
   "execution_count": 20,
   "id": "469b2ef4-8ac6-4ba8-9841-9e6a5b823f18",
   "metadata": {},
   "outputs": [
    {
     "name": "stdout",
     "output_type": "stream",
     "text": [
      "Muhammad is 22 years old and studies Business management.\n"
     ]
    }
   ],
   "source": [
    "student = (\"Muhammad\", 22, \"Business management\")\n",
    "name, age, major = student\n",
    "print(f\"{name} is {age} years old and studies {major}.\")"
   ]
  },
  {
   "cell_type": "markdown",
   "id": "c6e2d7a6-99b1-4794-bdde-eb4748341852",
   "metadata": {},
   "source": [
    "__P3: Create a tuple coordinates representing point A as (4, 3).\n",
    "Write code to calculate its distance from the origin (0, 0) using the Euclidean distance formula:__\n",
    "distance = √((x₂ - x₁)² + (y₂ - y₁)²)"
   ]
  },
  {
   "cell_type": "code",
   "execution_count": 21,
   "id": "146d6a91-ef6f-4dd4-8367-21644ac1c653",
   "metadata": {},
   "outputs": [
    {
     "name": "stdout",
     "output_type": "stream",
     "text": [
      "Distance from origin: 5.0\n"
     ]
    }
   ],
   "source": [
    "coordinates = (4, 3)\n",
    "x1, y1 = 0, 0\n",
    "x2, y2 = coordinates \n",
    "distance = (((x2 - x1)** 2) + ((y2 - y1)** 2))** 0.5\n",
    "print(\"Distance from origin:\", distance)"
   ]
  },
  {
   "cell_type": "markdown",
   "id": "0ba4f1d2-35f7-4724-9e30-47503df6f358",
   "metadata": {},
   "source": [
    "---\n",
    "## 📌 Summary\n",
    "- Tuples are like lists, but immutable.\n",
    "\n",
    "- Use `()` for tuples.\n",
    "\n",
    "- You can access, slice, and loop through tuples.\n",
    "\n",
    "- Tuple unpacking is useful for clean assignments.\n",
    "\n",
    "- Good for storing fixed data like coordinates, settings, etc."
   ]
  }
 ],
 "metadata": {
  "kernelspec": {
   "display_name": "Python 3 (ipykernel)",
   "language": "python",
   "name": "python3"
  },
  "language_info": {
   "codemirror_mode": {
    "name": "ipython",
    "version": 3
   },
   "file_extension": ".py",
   "mimetype": "text/x-python",
   "name": "python",
   "nbconvert_exporter": "python",
   "pygments_lexer": "ipython3",
   "version": "3.13.2"
  }
 },
 "nbformat": 4,
 "nbformat_minor": 5
}
