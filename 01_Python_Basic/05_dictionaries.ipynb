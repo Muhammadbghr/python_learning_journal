{
 "cells": [
  {
   "cell_type": "markdown",
   "id": "8a87cca5-aee0-4430-a96e-03bea3b080f7",
   "metadata": {},
   "source": [
    "# 📖 Python Dictionaries\n",
    "\n",
    "A **dictionary** is a collection of key-value pairs.  \n",
    "It is **unordered** (before Python 3.7), **mutable**, and **indexed by keys** (not positions).\n",
    "\n",
    "Dictionaries are defined using **curly braces** `{}`.\n",
    "\n",
    "---\n",
    "\n",
    "## 🧱 Creating Dictionaries"
   ]
  },
  {
   "cell_type": "code",
   "execution_count": 1,
   "id": "4875d380-9167-4df8-bb89-9c06d4b1a845",
   "metadata": {},
   "outputs": [
    {
     "name": "stdout",
     "output_type": "stream",
     "text": [
      "{'name': 'Alice', 'age': 25, 'city': 'New York'}\n"
     ]
    }
   ],
   "source": [
    "person = {\n",
    "    \"name\": \"Alice\",\n",
    "    \"age\": 25,\n",
    "    \"city\": \"New York\"\n",
    "}\n",
    "\n",
    "print(person)"
   ]
  },
  {
   "cell_type": "markdown",
   "id": "07de6603-61f5-4f35-ba3e-19778d5467bc",
   "metadata": {},
   "source": [
    "## 🔍 Accessing Values"
   ]
  },
  {
   "cell_type": "code",
   "execution_count": 2,
   "id": "d8ea7140-b070-4976-bbf6-dd41c14cb0dd",
   "metadata": {},
   "outputs": [
    {
     "name": "stdout",
     "output_type": "stream",
     "text": [
      "Alice\n",
      "25\n"
     ]
    }
   ],
   "source": [
    "print(person[\"name\"])\n",
    "print(person.get(\"age\"))"
   ]
  },
  {
   "cell_type": "markdown",
   "id": "54d90e87-90dd-4954-9ef5-b25fd3dcf8f5",
   "metadata": {},
   "source": [
    "✅ `.get()` is safer because it won’t raise an error if the key doesn’t exist."
   ]
  },
  {
   "cell_type": "markdown",
   "id": "0c4811a5-e1c1-4bd5-84f0-9cd955a35733",
   "metadata": {},
   "source": [
    "## ➕ Adding and Updating Values"
   ]
  },
  {
   "cell_type": "code",
   "execution_count": 3,
   "id": "89630cf1-2b10-48b4-813c-03debfe253fd",
   "metadata": {},
   "outputs": [
    {
     "name": "stdout",
     "output_type": "stream",
     "text": [
      "{'name': 'Alice', 'age': 26, 'city': 'New York', 'email': 'alice@example.com'}\n"
     ]
    }
   ],
   "source": [
    "person[\"email\"] = \"alice@example.com\"   # Add new key\n",
    "person[\"age\"] = 26                      # Update value\n",
    "\n",
    "print(person)"
   ]
  },
  {
   "cell_type": "markdown",
   "id": "e52f931e-6167-4e7c-9998-8b8bc4ca69ad",
   "metadata": {},
   "source": [
    "## ❌ Removing Items"
   ]
  },
  {
   "cell_type": "code",
   "execution_count": 4,
   "id": "1fb7313a-0fd5-4a40-8974-a62d1e5ad6ff",
   "metadata": {},
   "outputs": [
    {
     "name": "stdout",
     "output_type": "stream",
     "text": [
      "{'name': 'Alice', 'email': 'alice@example.com'}\n"
     ]
    }
   ],
   "source": [
    "person.pop(\"city\")       # Remove by key\n",
    "del person[\"age\"]        # Another way to delete\n",
    "\n",
    "print(person)"
   ]
  },
  {
   "cell_type": "markdown",
   "id": "ed1fdc1c-6857-4e25-8df0-93a2469e5978",
   "metadata": {},
   "source": [
    "## 🔁 Looping Through a Dictionary"
   ]
  },
  {
   "cell_type": "code",
   "execution_count": 5,
   "id": "42236304-e8c8-490b-9fce-c637d39ff521",
   "metadata": {},
   "outputs": [
    {
     "name": "stdout",
     "output_type": "stream",
     "text": [
      "name → Alice\n",
      "email → alice@example.com\n",
      "name: Alice\n",
      "email: alice@example.com\n"
     ]
    }
   ],
   "source": [
    "for key in person:\n",
    "    print(key, \"→\", person[key])\n",
    "\n",
    "# or:\n",
    "for key, value in person.items():\n",
    "    print(f\"{key}: {value}\")"
   ]
  },
  {
   "cell_type": "markdown",
   "id": "b020b47c-4282-4ce6-9e22-4da6896ba065",
   "metadata": {},
   "source": [
    "## 🧠 Dictionary Methods"
   ]
  },
  {
   "cell_type": "code",
   "execution_count": 6,
   "id": "366537f5-3b63-4f32-bfc3-1ed1eea05158",
   "metadata": {},
   "outputs": [
    {
     "name": "stdout",
     "output_type": "stream",
     "text": [
      "dict_keys(['name', 'email'])\n",
      "dict_values(['Alice', 'alice@example.com'])\n",
      "dict_items([('name', 'Alice'), ('email', 'alice@example.com')])\n"
     ]
    }
   ],
   "source": [
    "print(person.keys())       # All keys\n",
    "print(person.values())     # All values\n",
    "print(person.items())      # All key-value pairs"
   ]
  },
  {
   "cell_type": "markdown",
   "id": "a90c7afc-c486-40c9-aeb9-6d9467ac0e96",
   "metadata": {},
   "source": [
    "## ✅ Dictionary with Mixed Types"
   ]
  },
  {
   "cell_type": "code",
   "execution_count": 7,
   "id": "b282492f-8088-4ed0-aab6-d68b920b55cc",
   "metadata": {},
   "outputs": [
    {
     "name": "stdout",
     "output_type": "stream",
     "text": [
      "85\n"
     ]
    }
   ],
   "source": [
    "student = {\n",
    "    \"name\": \"John\",\n",
    "    \"grades\": [90, 85, 92],\n",
    "    \"passed\": True\n",
    "}\n",
    "\n",
    "print(student[\"grades\"][1])  # Access second grade"
   ]
  },
  {
   "cell_type": "markdown",
   "id": "b17d9620-fed5-40df-8252-2765982a7582",
   "metadata": {},
   "source": [
    "---\n",
    "## 🧩 Practice Problems\n",
    "__P1: Create a dictionary of a book with title, author, and year__ "
   ]
  },
  {
   "cell_type": "code",
   "execution_count": 8,
   "id": "4ebb85fe-c486-4087-8ad0-21c0b7c15c6c",
   "metadata": {},
   "outputs": [
    {
     "name": "stdout",
     "output_type": "stream",
     "text": [
      "{'title': '1984', 'author': 'George Orwell', 'year': 1949}\n"
     ]
    }
   ],
   "source": [
    "book = {\n",
    "    \"title\": \"1984\",\n",
    "    \"author\": \"George Orwell\",\n",
    "    \"year\": 1949\n",
    "}\n",
    "print(book)"
   ]
  },
  {
   "cell_type": "markdown",
   "id": "4b729e32-44e0-47f9-9c34-fa25fb8b04b5",
   "metadata": {},
   "source": [
    "__P2: Update the year of the book and add a \"pages\" key__"
   ]
  },
  {
   "cell_type": "code",
   "execution_count": 9,
   "id": "e8f47211-bab1-46fd-8a8f-43c4edb5307f",
   "metadata": {},
   "outputs": [
    {
     "name": "stdout",
     "output_type": "stream",
     "text": [
      "{'title': '1984', 'author': 'George Orwell', 'year': 1950, 'pages': 328}\n"
     ]
    }
   ],
   "source": [
    "book[\"year\"] = 1950\n",
    "book[\"pages\"] = 328\n",
    "print(book)"
   ]
  },
  {
   "cell_type": "markdown",
   "id": "347021c1-c141-4869-836b-041ec2b49b77",
   "metadata": {},
   "source": [
    "__P3: Find the student with the highest score__"
   ]
  },
  {
   "cell_type": "code",
   "execution_count": 10,
   "id": "bbbf19af-6e2a-48ed-868a-e2b512df9b67",
   "metadata": {},
   "outputs": [
    {
     "name": "stdout",
     "output_type": "stream",
     "text": [
      "Top student: Charlie\n"
     ]
    }
   ],
   "source": [
    "scores = {\n",
    "    \"Alice\": 91,\n",
    "    \"Bob\": 85,\n",
    "    \"Charlie\": 98\n",
    "}\n",
    "\n",
    "top_student = max(scores, key=scores.get)\n",
    "print(\"Top student:\", top_student)"
   ]
  },
  {
   "cell_type": "markdown",
   "id": "1796f3a1-65c6-42b2-a028-283790fa5d20",
   "metadata": {},
   "source": [
    "__P4: Count how many times each letter appears in a word__"
   ]
  },
  {
   "cell_type": "code",
   "execution_count": 12,
   "id": "097c5fe7-d4b8-40f2-9470-d317b160032c",
   "metadata": {},
   "outputs": [
    {
     "name": "stdout",
     "output_type": "stream",
     "text": [
      "{'M': 1, 'u': 1, 'h': 1, 'a': 2, 'm': 2, 'd': 1}\n"
     ]
    }
   ],
   "source": [
    "word = \"Muhammad\"\n",
    "letter_count = {}\n",
    "\n",
    "for letter in word:\n",
    "    if letter in letter_count:\n",
    "        letter_count[letter] += 1\n",
    "    else:\n",
    "        letter_count[letter] = 1\n",
    "\n",
    "print(letter_count)"
   ]
  },
  {
   "cell_type": "markdown",
   "id": "c92df403-7cc0-4a76-b4af-701e6d0818d5",
   "metadata": {},
   "source": [
    "## 📌 Summary\n",
    "- Dictionaries store data as key-value pairs.\n",
    "- Use `[]` or `.get()` to access values.\n",
    "- Add, update, and delete keys easily.\n",
    "- Use `.items()`, `.keys()`, `.values()` for iteration."
   ]
  }
 ],
 "metadata": {
  "kernelspec": {
   "display_name": "Python 3 (ipykernel)",
   "language": "python",
   "name": "python3"
  },
  "language_info": {
   "codemirror_mode": {
    "name": "ipython",
    "version": 3
   },
   "file_extension": ".py",
   "mimetype": "text/x-python",
   "name": "python",
   "nbconvert_exporter": "python",
   "pygments_lexer": "ipython3",
   "version": "3.13.2"
  }
 },
 "nbformat": 4,
 "nbformat_minor": 5
}
