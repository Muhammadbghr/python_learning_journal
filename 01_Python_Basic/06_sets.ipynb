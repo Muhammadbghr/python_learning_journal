{
 "cells": [
  {
   "cell_type": "markdown",
   "id": "79831722-8f3a-416e-925e-f65fe4dc8f8a",
   "metadata": {},
   "source": [
    "# 🧺 Python Sets\n",
    "\n",
    "A **set** is a collection of **unordered**, **unindexed**, and **unique** elements.\n",
    "\n",
    "Sets are defined using **curly braces `{}`** or the `set()` function.\n",
    "\n",
    "---\n",
    "\n",
    "## 🛠 Creating Sets"
   ]
  },
  {
   "cell_type": "code",
   "execution_count": 5,
   "id": "0a00ca19-0b82-4570-9010-be1a16c64c90",
   "metadata": {},
   "outputs": [
    {
     "name": "stdout",
     "output_type": "stream",
     "text": [
      "{'banana', 'apple', 'cherry'}\n",
      "{1, 2, 3, 4}\n",
      "<class 'set'>\n"
     ]
    }
   ],
   "source": [
    "fruits = {\"apple\", \"banana\", \"cherry\"}\n",
    "print(fruits)\n",
    "\n",
    "# Set from list (removes duplicates automatically)\n",
    "numbers = set([1, 2, 2, 3, 4, 4])\n",
    "print(numbers)\n",
    "print(type(numbers))"
   ]
  },
  {
   "cell_type": "markdown",
   "id": "2063d6eb-098a-4b70-bc77-160e721017e8",
   "metadata": {},
   "source": [
    "⚠️ No Duplicates Allowed in Set"
   ]
  },
  {
   "cell_type": "markdown",
   "id": "a72d0326-786f-4108-b79b-6b4afd12e701",
   "metadata": {},
   "source": [
    "## 📥 Adding and Removing Items"
   ]
  },
  {
   "cell_type": "code",
   "execution_count": 6,
   "id": "46bfe824-8851-4653-b3a1-3fa252b9ba98",
   "metadata": {},
   "outputs": [
    {
     "name": "stdout",
     "output_type": "stream",
     "text": [
      "{'parrot', 'fish', 'dog', 'rabbit'}\n"
     ]
    }
   ],
   "source": [
    "a = {\"dog\", \"cat\"}\n",
    "a.add(\"rabbit\")          # Add one item\n",
    "a.update([\"parrot\", \"fish\"])  # Add multiple\n",
    "\n",
    "a.remove(\"cat\")          # Remove (raises error if not found)\n",
    "a.discard(\"horse\")       # Safe remove (no error if not found)\n",
    "\n",
    "print(a)"
   ]
  },
  {
   "cell_type": "markdown",
   "id": "dfa04397-0ff7-4616-9458-6ce62d2e7ba3",
   "metadata": {},
   "source": [
    "## 🔁 Set Operations (like math)"
   ]
  },
  {
   "cell_type": "code",
   "execution_count": 7,
   "id": "7b4c9f40-26d8-4f6b-b72f-35b882a2b945",
   "metadata": {},
   "outputs": [
    {
     "name": "stdout",
     "output_type": "stream",
     "text": [
      "{1, 2, 3, 4, 5}\n",
      "{3}\n",
      "{1, 2}\n",
      "{4, 5}\n"
     ]
    }
   ],
   "source": [
    "a = {1, 2, 3}\n",
    "b = {3, 4, 5}\n",
    "\n",
    "print(a.union(b))        # {1, 2, 3, 4, 5}\n",
    "print(a.intersection(b)) # {3}\n",
    "print(a.difference(b))   # {1, 2}\n",
    "print(b.difference(a))   # {4, 5}"
   ]
  },
  {
   "cell_type": "markdown",
   "id": "d611dd29-13cb-4399-b037-c085fa27dda0",
   "metadata": {},
   "source": [
    "---\n",
    "## 🧩 Practice Problems\n",
    "__P1: Remove duplicates from a list using a set__"
   ]
  },
  {
   "cell_type": "code",
   "execution_count": 8,
   "id": "22c30870-203e-4ede-8fef-92f6f3ed763e",
   "metadata": {},
   "outputs": [
    {
     "name": "stdout",
     "output_type": "stream",
     "text": [
      "{1, 2, 3, 4, 5}\n"
     ]
    }
   ],
   "source": [
    "nums = [1, 2, 2, 3, 4, 4, 5]\n",
    "unique_nums = set(nums)\n",
    "print(unique_nums)"
   ]
  },
  {
   "cell_type": "markdown",
   "id": "c2d2d8ab-2fa2-4e89-ada0-d3fbd9f1ef1c",
   "metadata": {},
   "source": [
    "__P2: Check common elements between two sets__"
   ]
  },
  {
   "cell_type": "code",
   "execution_count": 12,
   "id": "bd6be7c8-7f5b-4023-9a9c-dbd6af10f29a",
   "metadata": {},
   "outputs": [
    {
     "name": "stdout",
     "output_type": "stream",
     "text": [
      "{'banana'}\n"
     ]
    }
   ],
   "source": [
    "a = {\"apple\", \"banana\", \"mango\"}\n",
    "b = {\"banana\", \"cherry\"}\n",
    "print(a & b)"
   ]
  },
  {
   "cell_type": "markdown",
   "id": "86689c01-8c87-4bae-a54b-16a09eed277c",
   "metadata": {},
   "source": [
    "__P3: Count how many unique letters are in a word__"
   ]
  },
  {
   "cell_type": "code",
   "execution_count": 10,
   "id": "ee1198d9-f4a9-4f0b-b572-4e76c984e238",
   "metadata": {},
   "outputs": [
    {
     "name": "stdout",
     "output_type": "stream",
     "text": [
      "4\n"
     ]
    }
   ],
   "source": [
    "word = \"mississippi\"\n",
    "unique_letters = set(word)\n",
    "print(len(unique_letters))"
   ]
  },
  {
   "cell_type": "markdown",
   "id": "1c7d74fc-df03-4292-85b3-bb60a5555599",
   "metadata": {},
   "source": [
    "--- \n",
    "## 📌 Summary\n",
    "- Sets hold only unique elements.\n",
    "- They are unordered → no indexing or slicing.\n",
    "- Perfect for: removing duplicates, testing membership, comparing data.\n",
    "- Set methods: `.add()`, `.remove()`, `.union()`, `.intersection()`, `.difference()`\n",
    "\n"
   ]
  }
 ],
 "metadata": {
  "kernelspec": {
   "display_name": "Python 3 (ipykernel)",
   "language": "python",
   "name": "python3"
  },
  "language_info": {
   "codemirror_mode": {
    "name": "ipython",
    "version": 3
   },
   "file_extension": ".py",
   "mimetype": "text/x-python",
   "name": "python",
   "nbconvert_exporter": "python",
   "pygments_lexer": "ipython3",
   "version": "3.13.2"
  }
 },
 "nbformat": 4,
 "nbformat_minor": 5
}
